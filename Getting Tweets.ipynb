{
 "cells": [
  {
   "cell_type": "code",
   "execution_count": 116,
   "id": "moderate-block",
   "metadata": {},
   "outputs": [],
   "source": [
    "import snscrape\n",
    "import os\n",
    "import pandas as pd\n",
    "import datetime as dt\n",
    "import snscrape.modules.twitter as snstwitter\n",
    "import time"
   ]
  },
  {
   "cell_type": "code",
   "execution_count": 102,
   "id": "pursuant-orbit",
   "metadata": {},
   "outputs": [],
   "source": [
    "all_queries = [\"turn 30\",\"turning thirty\",\"turn thirty\",\"turning 30\",\"before 30\",\"before thirty\"]"
   ]
  },
  {
   "cell_type": "code",
   "execution_count": 143,
   "id": "working-place",
   "metadata": {},
   "outputs": [],
   "source": [
    "def get_tweets(text_query,max_results):\n",
    "    start_time = time.time()\n",
    "    tweets_added = 0\n",
    "    tweets_list = []\n",
    "    start_date = dt.date(2018,1,1)\n",
    "    until_date = dt.date.today()\n",
    "    for i,tweet in enumerate(snstwitter.TwitterSearchScraper(\"{} since:{} until:{}\".format(text_query,start_date,until_date)).get_items()):\n",
    "        if text_query in tweet.content:\n",
    "            tweets_list.append([tweet])\n",
    "            tweets_added+=1\n",
    "        if tweets_added == max_results:\n",
    "            break\n",
    "        end_time = time.time()\n",
    "        if (end_time - start_time) > 1500:\n",
    "            break\n",
    "    return tweets_list"
   ]
  },
  {
   "cell_type": "code",
   "execution_count": 144,
   "id": "moved-latino",
   "metadata": {},
   "outputs": [],
   "source": [
    "#broke up the queries as electricity not stable, can do in one go with any\n",
    "query_6 = get_tweets(all_queries[5],5000)"
   ]
  },
  {
   "cell_type": "code",
   "execution_count": 210,
   "id": "annoying-dietary",
   "metadata": {},
   "outputs": [],
   "source": [
    "tweets_df = pd.DataFrame([],columns = [0])\n",
    "for i in range(1,7):\n",
    "    df = pd.read_pickle(f\"pickl_{i}\")\n",
    "    tweets_df = tweets_df.append(df)\n",
    "    "
   ]
  },
  {
   "cell_type": "code",
   "execution_count": 211,
   "id": "ignored-voice",
   "metadata": {},
   "outputs": [],
   "source": [
    "for num,item in enumerate([\"url\",\"date\",\"content\",\"id\",\"username\"]):\n",
    "    tweets_df[item] = tweets_df[0].apply(lambda x:x[num])"
   ]
  },
  {
   "cell_type": "code",
   "execution_count": 212,
   "id": "considered-chain",
   "metadata": {},
   "outputs": [],
   "source": [
    "tweets_df.drop(0,axis = 1,inplace = True)"
   ]
  },
  {
   "cell_type": "code",
   "execution_count": 213,
   "id": "meaning-shannon",
   "metadata": {},
   "outputs": [],
   "source": [
    "tweets_df.to_pickle(\"all_tweets.pickl\")"
   ]
  }
 ],
 "metadata": {
  "kernelspec": {
   "display_name": "Python 3",
   "language": "python",
   "name": "python3"
  },
  "language_info": {
   "codemirror_mode": {
    "name": "ipython",
    "version": 3
   },
   "file_extension": ".py",
   "mimetype": "text/x-python",
   "name": "python",
   "nbconvert_exporter": "python",
   "pygments_lexer": "ipython3",
   "version": "3.7.9"
  }
 },
 "nbformat": 4,
 "nbformat_minor": 5
}
